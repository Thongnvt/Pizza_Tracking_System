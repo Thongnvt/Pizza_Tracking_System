{
 "cells": [
  {
   "cell_type": "code",
   "execution_count": null,
   "metadata": {},
   "outputs": [],
   "source": [
    "from ultralytics import YOLO"
   ]
  },
  {
   "cell_type": "code",
   "execution_count": null,
   "metadata": {},
   "outputs": [],
   "source": [
    "model = YOLO(\"yolo11n.pt\")"
   ]
  },
  {
   "cell_type": "code",
   "execution_count": null,
   "metadata": {},
   "outputs": [],
   "source": [
    "model.train(\n",
    "    data=\"/kaggle/input/pizza-counting-yolov11/label/data.yaml\",\n",
    "    epochs=50,\n",
    "    lr0=0.001,                \n",
    "    imgsz=640,\n",
    "    batch=16,\n",
    "    patience=10,\n",
    "    name=\"yolo11-pizza\",\n",
    "    \n",
    "    \n",
    "    degrees=5.0,\n",
    "    translate=0.05,\n",
    "    scale=0.2,\n",
    "    shear=1.0,\n",
    "    flipud=0.0,\n",
    "    fliplr=0.5,\n",
    "    mosaic=1.0,\n",
    "    mixup=0.1\n",
    ")\n"
   ]
  },
  {
   "cell_type": "code",
   "execution_count": null,
   "metadata": {},
   "outputs": [],
   "source": [
    "from IPython.display import Image\n",
    "Image(filename='/kaggle/working/runs/detect/yolo11-pizza2/results.png')\n"
   ]
  }
 ],
 "metadata": {
  "kernelspec": {
   "display_name": "openmmlab2",
   "language": "python",
   "name": "python3"
  },
  "language_info": {
   "name": "python",
   "version": "3.10.6"
  }
 },
 "nbformat": 4,
 "nbformat_minor": 2
}
